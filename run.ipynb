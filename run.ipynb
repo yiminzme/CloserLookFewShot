{
 "cells": [
  {
   "cell_type": "code",
   "execution_count": null,
   "metadata": {},
   "outputs": [],
   "source": [
    "import time\n",
    "time.ctime()"
   ]
  },
  {
   "cell_type": "code",
   "execution_count": null,
   "metadata": {},
   "outputs": [],
   "source": [
    "!python ./train.py --dataset CUB --model Conv4 --method maml_approx --train_aug"
   ]
  },
  {
   "cell_type": "code",
   "execution_count": null,
   "metadata": {},
   "outputs": [],
   "source": [
    "time.ctime()"
   ]
  }
 ],
 "metadata": {
  "interpreter": {
   "hash": "7527ebb168b965f3a9170d1af0df962f76632c69d0fcec7d0e4dbe6ab2ee1425"
  },
  "kernelspec": {
   "display_name": "Python 3.9.12 ('prefix_maml')",
   "language": "python",
   "name": "python3"
  },
  "language_info": {
   "name": "python",
   "version": "3.9.12"
  },
  "orig_nbformat": 4
 },
 "nbformat": 4,
 "nbformat_minor": 2
}
