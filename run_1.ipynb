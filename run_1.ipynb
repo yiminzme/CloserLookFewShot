{
 "cells": [
  {
   "cell_type": "code",
   "execution_count": 1,
   "metadata": {
    "execution": {
     "iopub.execute_input": "2022-04-16T18:47:44.937701Z",
     "iopub.status.busy": "2022-04-16T18:47:44.937411Z",
     "iopub.status.idle": "2022-04-16T18:47:44.955047Z",
     "shell.execute_reply": "2022-04-16T18:47:44.954436Z"
    }
   },
   "outputs": [
    {
     "data": {
      "text/plain": [
       "'Sat Apr 16 18:47:44 2022'"
      ]
     },
     "execution_count": 1,
     "metadata": {},
     "output_type": "execute_result"
    }
   ],
   "source": [
    "import time\n",
    "time.ctime()"
   ]
  },
  {
   "cell_type": "code",
   "execution_count": 2,
   "metadata": {
    "execution": {
     "iopub.execute_input": "2022-04-16T18:47:44.994408Z",
     "iopub.status.busy": "2022-04-16T18:47:44.994029Z",
     "iopub.status.idle": "2022-04-16T18:47:51.717856Z",
     "shell.execute_reply": "2022-04-16T18:47:51.716615Z"
    }
   },
   "outputs": [
    {
     "name": "stdout",
     "output_type": "stream",
     "text": [
      "/home/yimin/anaconda3/envs/prefix_maml/lib/python3.9/site-packages/torchvision/transforms/transforms.py:935: UserWarning: The use of the transforms.RandomSizedCrop transform is deprecated, please use transforms.RandomResizedCrop instead.\r\n",
      "  warnings.warn(\"The use of the transforms.RandomSizedCrop transform is deprecated, \" +\r\n",
      "/home/yimin/anaconda3/envs/prefix_maml/lib/python3.9/site-packages/torchvision/transforms/transforms.py:317: UserWarning: The use of the transforms.Scale transform is deprecated, please use transforms.Resize instead.\r\n",
      "  warnings.warn(\"The use of the transforms.Scale transform is deprecated, \" +\r\n",
      "Traceback (most recent call last):\r\n",
      "  File \"/home/yimin/vinc/2022NLP/CloserLookFewShot/CloserLookFewShot/./train.py\", line 156, in <module>\r\n",
      "    model = model.cuda()\r\n",
      "  File \"/home/yimin/anaconda3/envs/prefix_maml/lib/python3.9/site-packages/torch/nn/modules/module.py\", line 680, in cuda\r\n",
      "    return self._apply(lambda t: t.cuda(device))\r\n",
      "  File \"/home/yimin/anaconda3/envs/prefix_maml/lib/python3.9/site-packages/torch/nn/modules/module.py\", line 570, in _apply\r\n",
      "    module._apply(fn)\r\n",
      "  File \"/home/yimin/anaconda3/envs/prefix_maml/lib/python3.9/site-packages/torch/nn/modules/module.py\", line 570, in _apply\r\n",
      "    module._apply(fn)\r\n",
      "  File \"/home/yimin/anaconda3/envs/prefix_maml/lib/python3.9/site-packages/torch/nn/modules/module.py\", line 570, in _apply\r\n",
      "    module._apply(fn)\r\n",
      "  [Previous line repeated 1 more time]\r\n",
      "  File \"/home/yimin/anaconda3/envs/prefix_maml/lib/python3.9/site-packages/torch/nn/modules/module.py\", line 593, in _apply\r\n",
      "    param_applied = fn(param)\r\n",
      "  File \"/home/yimin/anaconda3/envs/prefix_maml/lib/python3.9/site-packages/torch/nn/modules/module.py\", line 680, in <lambda>\r\n",
      "    return self._apply(lambda t: t.cuda(device))\r\n",
      "RuntimeError: CUDA error: out of memory\r\n",
      "CUDA kernel errors might be asynchronously reported at some other API call,so the stacktrace below might be incorrect.\r\n",
      "For debugging consider passing CUDA_LAUNCH_BLOCKING=1.\r\n"
     ]
    }
   ],
   "source": [
    "!python ./train.py --dataset CUB --model Conv4 --method maml_approx --train_aug"
   ]
  },
  {
   "cell_type": "code",
   "execution_count": 3,
   "metadata": {
    "execution": {
     "iopub.execute_input": "2022-04-16T18:47:51.723804Z",
     "iopub.status.busy": "2022-04-16T18:47:51.723367Z",
     "iopub.status.idle": "2022-04-16T18:47:51.730139Z",
     "shell.execute_reply": "2022-04-16T18:47:51.729529Z"
    }
   },
   "outputs": [
    {
     "data": {
      "text/plain": [
       "'Sat Apr 16 18:47:51 2022'"
      ]
     },
     "execution_count": 3,
     "metadata": {},
     "output_type": "execute_result"
    }
   ],
   "source": [
    "time.ctime()"
   ]
  }
 ],
 "metadata": {
  "interpreter": {
   "hash": "7527ebb168b965f3a9170d1af0df962f76632c69d0fcec7d0e4dbe6ab2ee1425"
  },
  "kernelspec": {
   "display_name": "Python 3.9.12 ('prefix_maml')",
   "language": "python",
   "name": "python3"
  },
  "language_info": {
   "codemirror_mode": {
    "name": "ipython",
    "version": 3
   },
   "file_extension": ".py",
   "mimetype": "text/x-python",
   "name": "python",
   "nbconvert_exporter": "python",
   "pygments_lexer": "ipython3",
   "version": "3.9.12"
  }
 },
 "nbformat": 4,
 "nbformat_minor": 2
}
